{
 "cells": [
  {
   "cell_type": "code",
   "execution_count": 5,
   "id": "0bf37186-b2ac-49f9-bf3d-7786312439bd",
   "metadata": {},
   "outputs": [
    {
     "name": "stdout",
     "output_type": "stream",
     "text": [
      "Before swap x: 5 and y: 10\n",
      "After swap x: 10 and y: 5\n"
     ]
    }
   ],
   "source": [
    "#1) Declare two variables, `x` and `y`, and assign them integer values. Swap the\n",
    "#values of these variables without using any temporary variable ?\n",
    "x = 5\n",
    "y = 10\n",
    "def swap_variables(x,y):\n",
    "    print(f\"Before swap x: {x} and y: {y}\")\n",
    "    x,y = y, x\n",
    "    print(f\"After swap x: {x} and y: {y}\")\n",
    "swap_variables(x,y)\n"
   ]
  },
  {
   "cell_type": "code",
   "execution_count": 7,
   "id": "236fc694-5893-496b-98d6-cc003cffa659",
   "metadata": {},
   "outputs": [
    {
     "name": "stdout",
     "output_type": "stream",
     "text": [
      "Enter the length of the rectangle:  33\n",
      "Enter the width of the rectangle:  19\n"
     ]
    },
    {
     "name": "stdout",
     "output_type": "stream",
     "text": [
      "The area of the rectangle is: 627.0\n"
     ]
    }
   ],
   "source": [
    "#2)Create a program that calculates the area of a rectangle. Take the length and\n",
    "      #width as inputs from the user and store them in variables. Calculate and\n",
    "      #display the area ?\n",
    "length = float(input(\"Enter the length of the rectangle: \")) \n",
    "width = float(input(\"Enter the width of the rectangle: \"))  \n",
    "area=length * width\n",
    "\n",
    "print(\"The area of the rectangle is:\", area)"
   ]
  },
  {
   "cell_type": "code",
   "execution_count": 8,
   "id": "9c9b4803-21ba-434e-a4e3-50fc12cae215",
   "metadata": {},
   "outputs": [
    {
     "name": "stdout",
     "output_type": "stream",
     "text": [
      "Enter temperature in Celsius:  37\n"
     ]
    },
    {
     "name": "stdout",
     "output_type": "stream",
     "text": [
      "37.0 Celsius is equal to 98.60 Fahrenheit\n"
     ]
    }
   ],
   "source": [
    "#3)Write a Python program that converts temperatures from Celsius to\n",
    "   #Fahrenheit. Take the temperature in Celsius as input, store it in a variable,\n",
    "   #convert it to Fahrenheit, and display the result ?\n",
    "celsius_temperature = float(input(\"Enter temperature in Celsius: \"))\n",
    "fahrenheit_temperature = (celsius_temperature * 9/5) + 32\n",
    "print(f\"{celsius_temperature} Celsius is equal to {fahrenheit_temperature:.2f} Fahrenheit\")\n"
   ]
  },
  {
   "cell_type": "code",
   "execution_count": 12,
   "id": "af3a768b-d80c-4a36-80fc-63f15aeb1c22",
   "metadata": {},
   "outputs": [
    {
     "name": "stdout",
     "output_type": "stream",
     "text": [
      "Enter a string:  bangalore\n"
     ]
    },
    {
     "name": "stdout",
     "output_type": "stream",
     "text": [
      "The length of the input string is: 9\n"
     ]
    }
   ],
   "source": [
    "#4)Write a Python program that takes a string as input and prints the length of\n",
    "      #the string ?\n",
    "input_string = input(\"Enter a string: \")\n",
    "string_length = len(input_string)\n",
    "print(\"The length of the input string is:\", string_length)"
   ]
  },
  {
   "cell_type": "code",
   "execution_count": 13,
   "id": "24095fa7-5d85-48d6-866d-77cc25bf275f",
   "metadata": {},
   "outputs": [
    {
     "name": "stdout",
     "output_type": "stream",
     "text": [
      "Enter a sentence:  science\n"
     ]
    },
    {
     "name": "stdout",
     "output_type": "stream",
     "text": [
      "Number of vowels: 3\n"
     ]
    }
   ],
   "source": [
    "#5)Create a program that takes a sentence from the user and counts the number\n",
    "  # of vowels (a, e, i, o, u) in the string ?\n",
    "sentence = input(\"Enter a sentence: \")\n",
    "vowel_count = 0\n",
    "for char in sentence:\n",
    "    char_lower = char.lower()\n",
    "    if char_lower in \"aeiou\":\n",
    "        vowel_count += 1\n",
    "print(\"Number of vowels:\", vowel_count)"
   ]
  },
  {
   "cell_type": "code",
   "execution_count": 14,
   "id": "7ff1c7f6-2fcc-411f-849e-5a2e710ff68a",
   "metadata": {},
   "outputs": [
    {
     "name": "stdout",
     "output_type": "stream",
     "text": [
      "Enter a string:  kumar\n"
     ]
    },
    {
     "name": "stdout",
     "output_type": "stream",
     "text": [
      "Reversed string: ramuk\n"
     ]
    }
   ],
   "source": [
    "#6)Given a string, reverse the order of characters using string slicing and print\n",
    "   #the reversed string ?\n",
    "input_string = input(\"Enter a string: \")\n",
    "reversed_string = input_string[::-1]\n",
    "print(\"Reversed string:\", reversed_string)"
   ]
  },
  {
   "cell_type": "code",
   "execution_count": 15,
   "id": "0d235536-27f8-44a3-bbdb-6e30011a2268",
   "metadata": {},
   "outputs": [
    {
     "name": "stdout",
     "output_type": "stream",
     "text": [
      "Enter a string:  please\n"
     ]
    },
    {
     "name": "stdout",
     "output_type": "stream",
     "text": [
      "The input string is not a palindrome.\n"
     ]
    }
   ],
   "source": [
    "#7)Write a program that takes a string as input and checks if it is a palindrome\n",
    "  #(reads the same forwards and backwards) ?\n",
    "input_string = input(\"Enter a string: \")\n",
    "cleaned_string = input_string.replace(\" \", \"\").lower()\n",
    "reversed_string = cleaned_string[::-1]\n",
    "if cleaned_string == reversed_string:\n",
    "    print(\"The input string is a palindrome.\")\n",
    "else:\n",
    "    print(\"The input string is not a palindrome.\")"
   ]
  },
  {
   "cell_type": "code",
   "execution_count": 17,
   "id": "9e2a94c6-b5b8-4c10-bdbb-9470b72be617",
   "metadata": {},
   "outputs": [
    {
     "name": "stdout",
     "output_type": "stream",
     "text": [
      "Enter a string:  ban galore\n"
     ]
    },
    {
     "name": "stdout",
     "output_type": "stream",
     "text": [
      "Modified string without spaces: bangalore\n"
     ]
    }
   ],
   "source": [
    "#8)Create a program that takes a string as input and removes all the spaces from\n",
    "   #it. Print the modified string without spaces ?\n",
    "input_string = input(\"Enter a string: \")\n",
    "modified_string = \"\"\n",
    "for char in input_string:\n",
    "    if char != \" \":\n",
    "        modified_string += char\n",
    "print(\"Modified string without spaces:\", modified_string)"
   ]
  },
  {
   "cell_type": "code",
   "execution_count": null,
   "id": "68c2a0a0-0cc0-4f43-80b3-c73360f690c7",
   "metadata": {},
   "outputs": [],
   "source": []
  }
 ],
 "metadata": {
  "kernelspec": {
   "display_name": "Python 3 (ipykernel)",
   "language": "python",
   "name": "python3"
  },
  "language_info": {
   "codemirror_mode": {
    "name": "ipython",
    "version": 3
   },
   "file_extension": ".py",
   "mimetype": "text/x-python",
   "name": "python",
   "nbconvert_exporter": "python",
   "pygments_lexer": "ipython3",
   "version": "3.10.8"
  }
 },
 "nbformat": 4,
 "nbformat_minor": 5
}
